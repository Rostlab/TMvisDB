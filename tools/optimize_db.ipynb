{
 "cells": [
  {
   "cell_type": "code",
   "execution_count": 1,
   "metadata": {},
   "outputs": [],
   "source": [
    "from pathlib import Path\n",
    "import sys\n",
    "\n",
    "from peewee import (\n",
    "    SqliteDatabase,\n",
    ")\n",
    "\n",
    "sys.path.append(str(Path(\"../src\").resolve().as_posix()))\n",
    "from utils.database import (\n",
    "    Organism,\n",
    "    Sequence,\n",
    "    TMInfo,\n",
    "    Annotation,\n",
    ")\n",
    "\n",
    "db_path = Path(\"../data/tmvis.db\")\n",
    "db = SqliteDatabase(db_path.resolve().as_posix())\n",
    "db.bind([Organism, Sequence, TMInfo, Annotation], bind_backrefs=False, bind_refs=False)"
   ]
  },
  {
   "cell_type": "code",
   "execution_count": 2,
   "metadata": {},
   "outputs": [
    {
     "name": "stdout",
     "output_type": "stream",
     "text": [
      "Created index: organism_super_kingdom_clade\n",
      "Created index: tminfo_has_alpha_helix_has_beta_strand_has_signal\n",
      "Created index: annotation_sequence_start_end\n"
     ]
    }
   ],
   "source": [
    "from peewee import OperationalError\n",
    "\n",
    "\n",
    "def get_existing_indexes(model):\n",
    "    \"\"\"Fetch existing indexes for a given model.\"\"\"\n",
    "    table_name = model._meta.table_name\n",
    "    existing_indexes = set()\n",
    "    cursor = db.execute_sql(f'PRAGMA index_list(\"{table_name}\");')\n",
    "    for row in cursor.fetchall():\n",
    "        existing_indexes.add(row[1])\n",
    "    return existing_indexes\n",
    "\n",
    "\n",
    "def get_model_indexes(model):\n",
    "    \"\"\"Get all indexes for the model including field indexes and meta indexes.\"\"\"\n",
    "    indexes = []\n",
    "\n",
    "    # Field indexes\n",
    "    for field in model._meta.fields.values():\n",
    "        if field.index or field.unique:\n",
    "            index_name = f\"{model._meta.table_name}_{field.column_name}\"\n",
    "            indexes.append(([field.column_name], field.unique, index_name))\n",
    "\n",
    "    # Meta indexes\n",
    "    for index_fields, is_unique in model._meta.indexes:\n",
    "        index_name = (\n",
    "            \"_\".join(index_fields) if isinstance(index_fields, tuple) else index_fields\n",
    "        )\n",
    "        indexes.append(\n",
    "            (index_fields, is_unique, f\"{model._meta.table_name}_{index_name}\")\n",
    "        )\n",
    "\n",
    "    return indexes\n",
    "\n",
    "\n",
    "def create_missing_indexes(model):\n",
    "    \"\"\"Create indexes defined in the model but missing in the database.\"\"\"\n",
    "    existing_indexes = get_existing_indexes(model)\n",
    "    missing_indexes = get_model_indexes(model)\n",
    "\n",
    "    for index_fields, is_unique, index_name in missing_indexes:\n",
    "        if index_name not in existing_indexes:\n",
    "            if isinstance(index_fields, str):\n",
    "                index_fields = [index_fields]\n",
    "            fields = \", \".join([f'\"{field}\"' for field in index_fields])\n",
    "            unique = \"UNIQUE\" if is_unique else \"\"\n",
    "            sql = f'CREATE {unique} INDEX IF NOT EXISTS \"{index_name}\" ON \"{model._meta.table_name}\" ({fields});'\n",
    "            try:\n",
    "                db.execute_sql(sql)\n",
    "                print(f\"Created index: {index_name}\")\n",
    "            except OperationalError as e:\n",
    "                print(f\"Error creating index {index_name}: {e}\")\n",
    "\n",
    "\n",
    "def ensure_indexes():\n",
    "    models = [Organism, Sequence, TMInfo, Annotation]\n",
    "    for model in models:\n",
    "        create_missing_indexes(model)\n",
    "\n",
    "\n",
    "with db:\n",
    "    ensure_indexes()"
   ]
  },
  {
   "cell_type": "code",
   "execution_count": 3,
   "metadata": {},
   "outputs": [],
   "source": [
    "with db:\n",
    "    db.execute_sql(\"REINDEX\")"
   ]
  },
  {
   "cell_type": "code",
   "execution_count": null,
   "metadata": {},
   "outputs": [
    {
     "ename": "OperationalError",
     "evalue": "cannot VACUUM from within a transaction",
     "output_type": "error",
     "traceback": [
      "\u001b[0;31m---------------------------------------------------------------------------\u001b[0m",
      "\u001b[0;31mOperationalError\u001b[0m                          Traceback (most recent call last)",
      "File \u001b[0;32m~/workspace/rostlab/TMvisDB/.venv/lib/python3.10/site-packages/peewee.py:3322\u001b[0m, in \u001b[0;36mDatabase.execute_sql\u001b[0;34m(self, sql, params, commit)\u001b[0m\n\u001b[1;32m   3321\u001b[0m     cursor \u001b[38;5;241m=\u001b[39m \u001b[38;5;28mself\u001b[39m\u001b[38;5;241m.\u001b[39mcursor()\n\u001b[0;32m-> 3322\u001b[0m     \u001b[43mcursor\u001b[49m\u001b[38;5;241;43m.\u001b[39;49m\u001b[43mexecute\u001b[49m\u001b[43m(\u001b[49m\u001b[43msql\u001b[49m\u001b[43m,\u001b[49m\u001b[43m \u001b[49m\u001b[43mparams\u001b[49m\u001b[43m \u001b[49m\u001b[38;5;129;43;01mor\u001b[39;49;00m\u001b[43m \u001b[49m\u001b[43m(\u001b[49m\u001b[43m)\u001b[49m\u001b[43m)\u001b[49m\n\u001b[1;32m   3323\u001b[0m \u001b[38;5;28;01mreturn\u001b[39;00m cursor\n",
      "\u001b[0;31mOperationalError\u001b[0m: cannot VACUUM from within a transaction",
      "\nDuring handling of the above exception, another exception occurred:\n",
      "\u001b[0;31mOperationalError\u001b[0m                          Traceback (most recent call last)",
      "Cell \u001b[0;32mIn[4], line 2\u001b[0m\n\u001b[1;32m      1\u001b[0m \u001b[38;5;28;01mwith\u001b[39;00m db:\n\u001b[0;32m----> 2\u001b[0m     \u001b[43mdb\u001b[49m\u001b[38;5;241;43m.\u001b[39;49m\u001b[43mexecute_sql\u001b[49m\u001b[43m(\u001b[49m\u001b[38;5;124;43m\"\u001b[39;49m\u001b[38;5;124;43mVACUUM;\u001b[39;49m\u001b[38;5;124;43m\"\u001b[39;49m\u001b[43m)\u001b[49m\n\u001b[1;32m      3\u001b[0m     db\u001b[38;5;241m.\u001b[39mexecute_sql(\u001b[38;5;124m\"\u001b[39m\u001b[38;5;124mANALYZE;\u001b[39m\u001b[38;5;124m\"\u001b[39m)\n",
      "File \u001b[0;32m~/workspace/rostlab/TMvisDB/.venv/lib/python3.10/site-packages/peewee.py:3320\u001b[0m, in \u001b[0;36mDatabase.execute_sql\u001b[0;34m(self, sql, params, commit)\u001b[0m\n\u001b[1;32m   3318\u001b[0m     __deprecated__(\u001b[38;5;124m'\u001b[39m\u001b[38;5;124m\"\u001b[39m\u001b[38;5;124mcommit\u001b[39m\u001b[38;5;124m\"\u001b[39m\u001b[38;5;124m has been deprecated and is a no-op.\u001b[39m\u001b[38;5;124m'\u001b[39m)\n\u001b[1;32m   3319\u001b[0m logger\u001b[38;5;241m.\u001b[39mdebug((sql, params))\n\u001b[0;32m-> 3320\u001b[0m \u001b[38;5;28;01mwith\u001b[39;00m __exception_wrapper__:\n\u001b[1;32m   3321\u001b[0m     cursor \u001b[38;5;241m=\u001b[39m \u001b[38;5;28mself\u001b[39m\u001b[38;5;241m.\u001b[39mcursor()\n\u001b[1;32m   3322\u001b[0m     cursor\u001b[38;5;241m.\u001b[39mexecute(sql, params \u001b[38;5;129;01mor\u001b[39;00m ())\n",
      "File \u001b[0;32m~/workspace/rostlab/TMvisDB/.venv/lib/python3.10/site-packages/peewee.py:3088\u001b[0m, in \u001b[0;36mExceptionWrapper.__exit__\u001b[0;34m(self, exc_type, exc_value, traceback)\u001b[0m\n\u001b[1;32m   3086\u001b[0m new_type \u001b[38;5;241m=\u001b[39m \u001b[38;5;28mself\u001b[39m\u001b[38;5;241m.\u001b[39mexceptions[exc_type\u001b[38;5;241m.\u001b[39m\u001b[38;5;18m__name__\u001b[39m]\n\u001b[1;32m   3087\u001b[0m exc_args \u001b[38;5;241m=\u001b[39m exc_value\u001b[38;5;241m.\u001b[39margs\n\u001b[0;32m-> 3088\u001b[0m \u001b[43mreraise\u001b[49m\u001b[43m(\u001b[49m\u001b[43mnew_type\u001b[49m\u001b[43m,\u001b[49m\u001b[43m \u001b[49m\u001b[43mnew_type\u001b[49m\u001b[43m(\u001b[49m\u001b[43mexc_value\u001b[49m\u001b[43m,\u001b[49m\u001b[43m \u001b[49m\u001b[38;5;241;43m*\u001b[39;49m\u001b[43mexc_args\u001b[49m\u001b[43m)\u001b[49m\u001b[43m,\u001b[49m\u001b[43m \u001b[49m\u001b[43mtraceback\u001b[49m\u001b[43m)\u001b[49m\n",
      "File \u001b[0;32m~/workspace/rostlab/TMvisDB/.venv/lib/python3.10/site-packages/peewee.py:196\u001b[0m, in \u001b[0;36mreraise\u001b[0;34m(tp, value, tb)\u001b[0m\n\u001b[1;32m    194\u001b[0m \u001b[38;5;28;01mdef\u001b[39;00m \u001b[38;5;21mreraise\u001b[39m(tp, value, tb\u001b[38;5;241m=\u001b[39m\u001b[38;5;28;01mNone\u001b[39;00m):\n\u001b[1;32m    195\u001b[0m     \u001b[38;5;28;01mif\u001b[39;00m value\u001b[38;5;241m.\u001b[39m__traceback__ \u001b[38;5;129;01mis\u001b[39;00m \u001b[38;5;129;01mnot\u001b[39;00m tb:\n\u001b[0;32m--> 196\u001b[0m         \u001b[38;5;28;01mraise\u001b[39;00m value\u001b[38;5;241m.\u001b[39mwith_traceback(tb)\n\u001b[1;32m    197\u001b[0m     \u001b[38;5;28;01mraise\u001b[39;00m value\n",
      "File \u001b[0;32m~/workspace/rostlab/TMvisDB/.venv/lib/python3.10/site-packages/peewee.py:3322\u001b[0m, in \u001b[0;36mDatabase.execute_sql\u001b[0;34m(self, sql, params, commit)\u001b[0m\n\u001b[1;32m   3320\u001b[0m \u001b[38;5;28;01mwith\u001b[39;00m __exception_wrapper__:\n\u001b[1;32m   3321\u001b[0m     cursor \u001b[38;5;241m=\u001b[39m \u001b[38;5;28mself\u001b[39m\u001b[38;5;241m.\u001b[39mcursor()\n\u001b[0;32m-> 3322\u001b[0m     \u001b[43mcursor\u001b[49m\u001b[38;5;241;43m.\u001b[39;49m\u001b[43mexecute\u001b[49m\u001b[43m(\u001b[49m\u001b[43msql\u001b[49m\u001b[43m,\u001b[49m\u001b[43m \u001b[49m\u001b[43mparams\u001b[49m\u001b[43m \u001b[49m\u001b[38;5;129;43;01mor\u001b[39;49;00m\u001b[43m \u001b[49m\u001b[43m(\u001b[49m\u001b[43m)\u001b[49m\u001b[43m)\u001b[49m\n\u001b[1;32m   3323\u001b[0m \u001b[38;5;28;01mreturn\u001b[39;00m cursor\n",
      "\u001b[0;31mOperationalError\u001b[0m: cannot VACUUM from within a transaction"
     ]
    }
   ],
   "source": [
    "with db:\n",
    "    db.execute_sql(\"VACUUM;\")\n",
    "\n",
    "# Execution finished without errors.\n",
    "# Result: query executed successfully. Took 29678842ms\n",
    "# At line 1:\n",
    "# VACUUM;"
   ]
  },
  {
   "cell_type": "code",
   "execution_count": 5,
   "metadata": {},
   "outputs": [],
   "source": [
    "with db:\n",
    "    db.execute_sql(\"ANALYZE;\")"
   ]
  }
 ],
 "metadata": {
  "kernelspec": {
   "display_name": ".venv",
   "language": "python",
   "name": "python3"
  },
  "language_info": {
   "codemirror_mode": {
    "name": "ipython",
    "version": 3
   },
   "file_extension": ".py",
   "mimetype": "text/x-python",
   "name": "python",
   "nbconvert_exporter": "python",
   "pygments_lexer": "ipython3",
   "version": "3.10.14"
  }
 },
 "nbformat": 4,
 "nbformat_minor": 2
}
