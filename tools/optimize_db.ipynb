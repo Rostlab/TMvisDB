{
 "cells": [
  {
   "cell_type": "code",
   "execution_count": 1,
   "metadata": {},
   "outputs": [],
   "source": [
    "from pathlib import Path\n",
    "import sys\n",
    "\n",
    "from peewee import (\n",
    "    SqliteDatabase,\n",
    ")\n",
    "\n",
    "sys.path.append(str(Path(\"../src\").resolve().as_posix()))\n",
    "from utils.database import (\n",
    "    Organism,\n",
    "    Sequence,\n",
    "    TMInfo,\n",
    "    Annotation,\n",
    ")\n",
    "\n",
    "db_path = Path(\"../data/tmvis.db\")\n",
    "db = SqliteDatabase(db_path.resolve().as_posix())\n",
    "db.bind([Organism, Sequence, TMInfo, Annotation], bind_backrefs=False, bind_refs=False)"
   ]
  },
  {
   "cell_type": "code",
   "execution_count": 2,
   "metadata": {},
   "outputs": [
    {
     "name": "stdout",
     "output_type": "stream",
     "text": [
      "Created index: organism_super_kingdom_clade\n",
      "Created index: tminfo_has_alpha_helix_has_beta_strand_has_signal\n",
      "Created index: annotation_sequence_start_end\n"
     ]
    }
   ],
   "source": [
    "from peewee import OperationalError\n",
    "\n",
    "\n",
    "def get_existing_indexes(model):\n",
    "    \"\"\"Fetch existing indexes for a given model.\"\"\"\n",
    "    table_name = model._meta.table_name\n",
    "    existing_indexes = set()\n",
    "    cursor = db.execute_sql(f'PRAGMA index_list(\"{table_name}\");')\n",
    "    for row in cursor.fetchall():\n",
    "        existing_indexes.add(row[1])\n",
    "    return existing_indexes\n",
    "\n",
    "\n",
    "def get_model_indexes(model):\n",
    "    \"\"\"Get all indexes for the model including field indexes and meta indexes.\"\"\"\n",
    "    indexes = []\n",
    "\n",
    "    # Field indexes\n",
    "    for field in model._meta.fields.values():\n",
    "        if field.index or field.unique:\n",
    "            index_name = f\"{model._meta.table_name}_{field.column_name}\"\n",
    "            indexes.append(([field.column_name], field.unique, index_name))\n",
    "\n",
    "    # Meta indexes\n",
    "    for index_fields, is_unique in model._meta.indexes:\n",
    "        index_name = (\n",
    "            \"_\".join(index_fields) if isinstance(index_fields, tuple) else index_fields\n",
    "        )\n",
    "        indexes.append(\n",
    "            (index_fields, is_unique, f\"{model._meta.table_name}_{index_name}\")\n",
    "        )\n",
    "\n",
    "    return indexes\n",
    "\n",
    "\n",
    "def create_missing_indexes(model):\n",
    "    \"\"\"Create indexes defined in the model but missing in the database.\"\"\"\n",
    "    existing_indexes = get_existing_indexes(model)\n",
    "    missing_indexes = get_model_indexes(model)\n",
    "\n",
    "    for index_fields, is_unique, index_name in missing_indexes:\n",
    "        if index_name not in existing_indexes:\n",
    "            if isinstance(index_fields, str):\n",
    "                index_fields = [index_fields]\n",
    "            fields = \", \".join([f'\"{field}\"' for field in index_fields])\n",
    "            unique = \"UNIQUE\" if is_unique else \"\"\n",
    "            sql = f'CREATE {unique} INDEX IF NOT EXISTS \"{index_name}\" ON \"{model._meta.table_name}\" ({fields});'\n",
    "            try:\n",
    "                db.execute_sql(sql)\n",
    "                print(f\"Created index: {index_name}\")\n",
    "            except OperationalError as e:\n",
    "                print(f\"Error creating index {index_name}: {e}\")\n",
    "\n",
    "\n",
    "def ensure_indexes():\n",
    "    models = [Organism, Sequence, TMInfo, Annotation]\n",
    "    for model in models:\n",
    "        create_missing_indexes(model)\n",
    "\n",
    "\n",
    "with db:\n",
    "    ensure_indexes()"
   ]
  },
  {
   "cell_type": "code",
   "execution_count": 3,
   "metadata": {},
   "outputs": [],
   "source": [
    "with db:\n",
    "    db.execute_sql(\"REINDEX\")"
   ]
  },
  {
   "cell_type": "code",
   "execution_count": null,
   "metadata": {},
   "outputs": [],
   "source": [
    "with db:\n",
    "    db.execute_sql(\"VACUUM;\")\n",
    "    db.execute_sql(\"ANALYZE;\")"
   ]
  }
 ],
 "metadata": {
  "kernelspec": {
   "display_name": ".venv",
   "language": "python",
   "name": "python3"
  },
  "language_info": {
   "codemirror_mode": {
    "name": "ipython",
    "version": 3
   },
   "file_extension": ".py",
   "mimetype": "text/x-python",
   "name": "python",
   "nbconvert_exporter": "python",
   "pygments_lexer": "ipython3",
   "version": "3.10.14"
  }
 },
 "nbformat": 4,
 "nbformat_minor": 2
}
