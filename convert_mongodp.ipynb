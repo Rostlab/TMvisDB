{
 "cells": [
  {
   "cell_type": "code",
   "execution_count": 22,
   "metadata": {
    "tags": [
     "parameters"
    ]
   },
   "outputs": [],
   "source": [
    "from pathlib import Path\n",
    "\n",
    "topdb_path = Path(\"data/topdb.json\")\n",
    "membranome_path = Path(\"data/membranome.json\")\n",
    "tmvis_path = Path(\"data/tmvis.json\")\n",
    "uptaxonomy_path = Path(\"data/uptaxonomy.json\")\n",
    "missing_taxon_path = Path(\"data/missing_taxon_id.csv\")\n",
    "replacement_taxon_path = Path(\"data/replacement_taxon_id.csv\")"
   ]
  },
  {
   "cell_type": "markdown",
   "metadata": {},
   "source": [
    "## Data overview\n"
   ]
  },
  {
   "cell_type": "code",
   "execution_count": 28,
   "metadata": {},
   "outputs": [
    {
     "data": {
      "text/plain": [
       "{'_id': 2,\n",
       " 'Common name': 'eubacteria',\n",
       " 'Scientific name': 'Bacteria',\n",
       " 'Lineage_all': 'cellular organisms',\n",
       " 'Lineage': ['cellular organisms'],\n",
       " 'Domain': 'cellular organisms',\n",
       " 'Kingdom': 'NaN'}"
      ]
     },
     "metadata": {},
     "output_type": "display_data"
    },
    {
     "data": {
      "text/plain": [
       "{'_id': 6,\n",
       " 'Common name': None,\n",
       " 'Scientific name': 'Azorhizobium',\n",
       " 'Lineage_all': 'Xanthobacteraceae, Hyphomicrobiales, Alphaproteobacteria, Proteobacteria, Bacteria, cellular organisms',\n",
       " 'Lineage': ['Xanthobacteraceae',\n",
       "  'Hyphomicrobiales',\n",
       "  'Alphaproteobacteria',\n",
       "  'Proteobacteria',\n",
       "  'Bacteria',\n",
       "  'cellular organisms'],\n",
       " 'Domain': 'Bacteria',\n",
       " 'Kingdom': 'Proteobacteria'}"
      ]
     },
     "metadata": {},
     "output_type": "display_data"
    },
    {
     "data": {
      "text/plain": [
       "{'_id': 7,\n",
       " 'Common name': None,\n",
       " 'Scientific name': 'Azorhizobium caulinodans',\n",
       " 'Lineage_all': 'Azorhizobium, Xanthobacteraceae, Hyphomicrobiales, Alphaproteobacteria, Proteobacteria, Bacteria, cellular organisms',\n",
       " 'Lineage': ['Azorhizobium',\n",
       "  'Xanthobacteraceae',\n",
       "  'Hyphomicrobiales',\n",
       "  'Alphaproteobacteria',\n",
       "  'Proteobacteria',\n",
       "  'Bacteria',\n",
       "  'cellular organisms'],\n",
       " 'Domain': 'Bacteria',\n",
       " 'Kingdom': 'Proteobacteria'}"
      ]
     },
     "metadata": {},
     "output_type": "display_data"
    },
    {
     "data": {
      "text/plain": [
       "{'_id': 9,\n",
       " 'Common name': None,\n",
       " 'Scientific name': 'Buchnera aphidicola',\n",
       " 'Lineage_all': 'Buchnera, Erwiniaceae, Enterobacterales, Gammaproteobacteria, Proteobacteria, Bacteria, cellular organisms',\n",
       " 'Lineage': ['Buchnera',\n",
       "  'Erwiniaceae',\n",
       "  'Enterobacterales',\n",
       "  'Gammaproteobacteria',\n",
       "  'Proteobacteria',\n",
       "  'Bacteria',\n",
       "  'cellular organisms'],\n",
       " 'Domain': 'Bacteria',\n",
       " 'Kingdom': 'Proteobacteria'}"
      ]
     },
     "metadata": {},
     "output_type": "display_data"
    },
    {
     "data": {
      "text/plain": [
       "{'_id': 10,\n",
       " 'Common name': None,\n",
       " 'Scientific name': 'Cellvibrio',\n",
       " 'Lineage_all': 'Cellvibrionaceae, Cellvibrionales, Gammaproteobacteria, Proteobacteria, Bacteria, cellular organisms',\n",
       " 'Lineage': ['Cellvibrionaceae',\n",
       "  'Cellvibrionales',\n",
       "  'Gammaproteobacteria',\n",
       "  'Proteobacteria',\n",
       "  'Bacteria',\n",
       "  'cellular organisms'],\n",
       " 'Domain': 'Bacteria',\n",
       " 'Kingdom': 'Proteobacteria'}"
      ]
     },
     "metadata": {},
     "output_type": "display_data"
    }
   ],
   "source": [
    "import json\n",
    "\n",
    "with uptaxonomy_path.open() as f:\n",
    "    for i, line in enumerate(f):\n",
    "        if i >= 5:\n",
    "            break\n",
    "        data = json.loads(line)\n",
    "        display(data)"
   ]
  },
  {
   "cell_type": "code",
   "execution_count": 29,
   "metadata": {},
   "outputs": [
    {
     "data": {
      "text/plain": [
       "{'_id': 'A0A5B9',\n",
       " 'tm_seq_start': '153',\n",
       " 'tm_seq_end': '173',\n",
       " 'date_added': '02/16/2023'}"
      ]
     },
     "metadata": {},
     "output_type": "display_data"
    },
    {
     "data": {
      "text/plain": [
       "{'_id': 'A0AVI2',\n",
       " 'tm_seq_start': '1996',\n",
       " 'tm_seq_end': '2015',\n",
       " 'date_added': '02/16/2023'}"
      ]
     },
     "metadata": {},
     "output_type": "display_data"
    },
    {
     "data": {
      "text/plain": [
       "{'_id': 'A0FGR8',\n",
       " 'tm_seq_start': '132',\n",
       " 'tm_seq_end': '149',\n",
       " 'date_added': '02/16/2023'}"
      ]
     },
     "metadata": {},
     "output_type": "display_data"
    },
    {
     "data": {
      "text/plain": [
       "{'_id': 'A0FGR9',\n",
       " 'tm_seq_start': '55',\n",
       " 'tm_seq_end': '72',\n",
       " 'date_added': '02/16/2023'}"
      ]
     },
     "metadata": {},
     "output_type": "display_data"
    },
    {
     "data": {
      "text/plain": [
       "{'_id': 'Q54F71',\n",
       " 'tm_seq_start': '2066',\n",
       " 'tm_seq_end': '2087',\n",
       " 'date_added': '02/16/2023'}"
      ]
     },
     "metadata": {},
     "output_type": "display_data"
    }
   ],
   "source": [
    "# Copyright 2024 RostLab.\n",
    "# SPDX-License-Identifier: \tAGPL-3.0-or-later\n",
    "\n",
    "import json\n",
    "\n",
    "with membranome_path.open() as f:\n",
    "\n",
    "    for i, line in enumerate(f):\n",
    "        if i >= 5:\n",
    "            break\n",
    "        data = json.loads(line)\n",
    "        display(data)"
   ]
  },
  {
   "cell_type": "code",
   "execution_count": 12,
   "metadata": {},
   "outputs": [
    {
     "data": {
      "text/plain": [
       "{'_id': 'P05067',\n",
       " 'TopDB_id': 'AB00003',\n",
       " 'TopDB_Entry': 'XXXXXXXXXXXXXXXXXOOOOOOOOOOOOOOOOOOOOOOOOOOOOOOOOOOOOOOOOOOOOOOOOOOOOOOOOOOOOOOOOOOOOOOOOOOOOOOOOOOOOOOOOOOOOOOOOOOOOOOOOOOOOOOOOOOOOOOOOOOOOOOOOOOOOOOOOOOOOOOOOOOOOOOOOOOOOOOOOOOOOOOOOOOOOOOOOOOOOOOOOOOOOOOOOOOOOOOOOOOOOOOOOOOOOOOOOOOOOOOOOOOOOOOOOOOOOOOOOOOOOOOOOOOOOOOOOOOOOOOOOOOOOOOOOOOOOOOOOOOOOOOOOOOOOOOOOOOOOOOOOOOOOOOOOOOOOOOOOOOOOOOOOOOOOOOOOOOOOOOOOOOOOOOOOOOOOOOOOOOOOOOOOOOOOOOOOOOOOOOOOOOOOOOOOOOOOOOOOOOOOOOOOOOOOOOOOOOOOOOOOOOOOOOOOOOOOOOOOOOOOOOOOOOOOOOOOOOOOOOOOOOOOOOOOOOOOOOOOOOOOOOOOOOOOOOOOOOOOOOOOOOOOOOOOOOOOOOOOOOOOOOOOOOOOOOOOOOOOOOOOOOOOOOOOOOOOOOOOOOOOOOOOOOOOOOOOOOOOOOOOOOOOOOOOOOOOOOOOOOOOOOOOOOOOOOOOOOOOOOOOOOOOOOOOOOOOOOOOOOOOOOOOOOOOOOOOOOOOOOOOOOOOOOOOOOOOOOOOOOOOMMMMMMMMMMMMMMMMMMMMMMIIIIIIIIIIIIIIIIIIIIIIIIIIIIIIIIIIIIIIIIIIIIIII',\n",
       " 'date_added': '02/16/2023'}"
      ]
     },
     "metadata": {},
     "output_type": "display_data"
    },
    {
     "data": {
      "text/plain": [
       "{'_id': 'P32839',\n",
       " 'TopDB_id': 'AB00017',\n",
       " 'TopDB_Entry': 'OOOOOOOOOOOOOOOOOOOOOOOOOOOOOOOOOOOOOOOOOOOOOOOOOOOMMMMMMMMMMMMMMMMMIIIIIIIIIIIIIIIIIIIIIIIIIIIIIIIIIIIIIIIIIIIIIIIIIIIIIIIIIIIIIIIIIIIIIIIIIIIIIIIIIIIIIIIIIIIIIIIIIIIIIIIIIIIIIIIIIIIIIIIIIIIIIIIIIIIIIIIIIIIIIIIIIIIIIIIIIIIIIIIIIIIIIIIIIIIIIIIIIIIIIIIIIIIIIIIIIIIIIIIIIIIIIIIIIIIIIIIIIIIIIIIIIIIIIIIIIIIIIIIIIIIIIIIIIIIIIIIIIIIIIIIIIIIIIIIIIIIIIIIIIIIIIIIIIIIIIIIIIIIIIIIIIIIIIIIIIIIIIIIIIIIIIIIIIIIIIIIIIIIIIIIIIIIIIIIIIIIIIIIIIIIIIIIIIIIIIIIIIIIIIIIIIIII',\n",
       " 'date_added': '02/16/2023'}"
      ]
     },
     "metadata": {},
     "output_type": "display_data"
    },
    {
     "data": {
      "text/plain": [
       "{'_id': 'P09564',\n",
       " 'TopDB_id': 'AB00018',\n",
       " 'TopDB_Entry': 'XXXXXXXXXXXXXXXXXXXXXXXXXOOOOOOOOOOOOOOOOOOOOOOOOOOOOOOOOOOOOOOOOOOOOOOOOOOOOOOOOOOOOOOOOOOOOOOOOOOOOOOOOOOOOOOOOOOOOOOOOOOOOOOOOOOOOOOOOOOOOOOOOOOOOOOOOOOOOOOOOOOOOOOOOOOOOOOOOMMMMMMMMMMMMMMMMMMMMMMMIIIIIIIIIIIIIIIIIIIIIIIIIIIIIIIIIIIIIIII',\n",
       " 'date_added': '02/16/2023'}"
      ]
     },
     "metadata": {},
     "output_type": "display_data"
    },
    {
     "data": {
      "text/plain": [
       "{'_id': 'P03623',\n",
       " 'TopDB_id': 'AB00021',\n",
       " 'TopDB_Entry': 'OOOOOOOOOOOOOOOOOOMMMMMMMMMMMMMMMMMMIIIIIIII',\n",
       " 'date_added': '02/16/2023'}"
      ]
     },
     "metadata": {},
     "output_type": "display_data"
    },
    {
     "data": {
      "text/plain": [
       "{'_id': 'P10615',\n",
       " 'TopDB_id': 'AB00024',\n",
       " 'TopDB_Entry': 'OOOOOOOOOOOOOOOOOOOOOOOOOOOOOOMMMMMMMMMMMMMMMMIIIIIIIIIIIIIIIIIIIIIIIIIIIIIIIIIIIIIIIIIIIIIIIIIIIIIIIIIIIIIIIIIIIIIIIIIIIIIIIIIIIIIIIIIIIIIIIIIIIIIIIIIIIIIIIIIIIIIIIIIIIIIIIIIIIIIIIIIIIIIIIIIIIIIIIIIIIIIIIIIIIIIIIIIIIIIIIIIIIIIIIIIIIIIIIIIIIIIIIIIIIIIIIIIIIIIIIIIIIIIIIIIIIIIIIIIIIIIIIIIIIIIIIIIIIIIIIIIIIIIIIIIIIIIIIIIIIIIIIIIIIIIIIIIIIIIIIIIIIIIIIIIIIIIIIIIIIIIIIIIIIIIIIIIIIIIIIIIIIIIIIIIIIIIIIIIIIIIIIIIIIIIIIIIIIIIIIIIIIIIIIIIIIIIIIIIIIIIIIIIIIIIIIIIIIIIIIIIIIIIIIIIIIIIIIIIIIIIIIIIIIIIIIIIIIIIIIIIIIIIIIIIIIIIIIIIIIIIIIIIIIIIIIIIIIIIIIII',\n",
       " 'date_added': '02/16/2023'}"
      ]
     },
     "metadata": {},
     "output_type": "display_data"
    }
   ],
   "source": [
    "# Copyright 2024 RostLab.\n",
    "# SPDX-License-Identifier: \tAGPL-3.0-or-later\n",
    "\n",
    "import json\n",
    "\n",
    "with topdb_path.open() as f:\n",
    "    for i, line in enumerate(f):\n",
    "        if i >= 5:\n",
    "            break\n",
    "        data = json.loads(line)\n",
    "        display(data)"
   ]
  },
  {
   "cell_type": "code",
   "execution_count": 30,
   "metadata": {},
   "outputs": [
    {
     "data": {
      "text/plain": [
       "{'_id': 'A0A0H3VM54',\n",
       " 'uniprot_accession': 'A0A0H3VM54',\n",
       " 'uniprot_id': 'A0A0H3VM54_9LILI',\n",
       " 'organism_name': 'Reinhardtia simplex',\n",
       " 'organism_id': 131291,\n",
       " 'sequence': 'MTDLNLPSIFVPLVGLVFPAIAMASLSLHVQKNKIV',\n",
       " 'seq_length': 36,\n",
       " 'predictions': {'transmembrane': 'oooooohhhhhhhhhhhhhhhhhhhhhhiiiiiiii'},\n",
       " 'annotations': {'tm_categorical': [1, 0, 0],\n",
       "  'tm_helix_count': 22,\n",
       "  'tm_helix_percent': 0.3055555555555556,\n",
       "  'tm_strand_count': 0,\n",
       "  'tm_strand_percent': 0.0,\n",
       "  'signal_count': 0,\n",
       "  'signal_percent': 0.0},\n",
       " 'run_on': {'$date': '2022-10-10T14:22:12.774Z'},\n",
       " 'chunk': 0,\n",
       " 'uptaxonomy': {'Lineage_all': 'Reinhardtia, Reinhardtieae, Arecoideae, Arecaceae, Arecales, commelinids, Petrosaviidae, Liliopsida, Mesangiospermae, Magnoliopsida, Spermatophyta, Euphyllophyta, Tracheophyta, Embryophyta, Streptophytina, Streptophyta, Viridiplantae, Eukaryota, cellular organisms',\n",
       "  'Domain': 'Eukaryota',\n",
       "  'Kingdom': 'Viridiplantae'}}"
      ]
     },
     "metadata": {},
     "output_type": "display_data"
    },
    {
     "data": {
      "text/plain": [
       "{'_id': 'C6W5C5',\n",
       " 'uniprot_accession': 'C6W5C5',\n",
       " 'uniprot_id': 'C6W5C5_DYAFD',\n",
       " 'organism_name': 'Dyadobacter fermentans (strain ATCC 700827 / DSM 18053 / CIP 107007 / KCTC 52180 / NS114)',\n",
       " 'organism_id': 471854,\n",
       " 'sequence': 'MMMTVIMIVFYVVLLTSAFLVGRWLENNEKQWKVNK',\n",
       " 'seq_length': 36,\n",
       " 'predictions': {'transmembrane': 'ohhhhhhhhhhhhhhhhhhhhhhiiiiiiiiiiiii'},\n",
       " 'annotations': {'tm_categorical': [1, 0, 0],\n",
       "  'tm_helix_count': 22,\n",
       "  'tm_helix_percent': 0.3055555555555556,\n",
       "  'tm_strand_count': 0,\n",
       "  'tm_strand_percent': 0.0,\n",
       "  'signal_count': 0,\n",
       "  'signal_percent': 0.0},\n",
       " 'run_on': {'$date': '2022-10-10T14:22:12.637Z'},\n",
       " 'chunk': 0,\n",
       " 'uptaxonomy': {'Lineage_all': 'Dyadobacter fermentans, Dyadobacter, Spirosomaceae, Cytophagales, Cytophagia, Bacteroidetes, Bacteroidetes/Chlorobi group, FCB group, Bacteria, cellular organisms',\n",
       "  'Domain': 'Bacteria',\n",
       "  'Kingdom': 'FCB group'}}"
      ]
     },
     "metadata": {},
     "output_type": "display_data"
    },
    {
     "data": {
      "text/plain": [
       "{'_id': 'A0A7G9XLI9',\n",
       " 'uniprot_accession': 'A0A7G9XLI9',\n",
       " 'uniprot_id': 'A0A7G9XLI9_9ASTR',\n",
       " 'organism_name': 'Cirsium setosum',\n",
       " 'organism_id': 576424,\n",
       " 'sequence': 'MESMEALVYTFLLVSTLGIIFFAIFFREPPKISTKK',\n",
       " 'seq_length': 36,\n",
       " 'predictions': {'transmembrane': 'oooohhhhhhhhhhhhhhhhhhhhhiiiiiiiiiii'},\n",
       " 'annotations': {'tm_categorical': [1, 0, 0],\n",
       "  'tm_helix_count': 21,\n",
       "  'tm_helix_percent': 0.2916666666666667,\n",
       "  'tm_strand_count': 0,\n",
       "  'tm_strand_percent': 0.0,\n",
       "  'signal_count': 0,\n",
       "  'signal_percent': 0.0},\n",
       " 'run_on': {'$date': '2022-10-10T14:22:12.777Z'},\n",
       " 'chunk': 0,\n",
       " 'uptaxonomy': {'Lineage_all': 'Cirsium, Carduinae, Cardueae, Carduoideae, Asteraceae, Asterales, campanulids, asterids, Pentapetalae, Gunneridae, eudicotyledons, Mesangiospermae, Magnoliopsida, Spermatophyta, Euphyllophyta, Tracheophyta, Embryophyta, Streptophytina, Streptophyta, Viridiplantae, Eukaryota, cellular organisms',\n",
       "  'Domain': 'Eukaryota',\n",
       "  'Kingdom': 'Viridiplantae'}}"
      ]
     },
     "metadata": {},
     "output_type": "display_data"
    },
    {
     "data": {
      "text/plain": [
       "{'_id': 'A0A2S1U5Y9',\n",
       " 'uniprot_accession': 'A0A2S1U5Y9',\n",
       " 'uniprot_id': 'A0A2S1U5Y9_9GENT',\n",
       " 'organism_name': 'Plumeria cubensis',\n",
       " 'organism_id': 403113,\n",
       " 'sequence': 'MLTLKLFVYTVVIFFVSLFIFGFLSNDPGRNPGREE',\n",
       " 'seq_length': 36,\n",
       " 'predictions': {'transmembrane': 'ooohhhhhhhhhhhhhhhhhhhhhiiiiiiiiiioo'},\n",
       " 'annotations': {'tm_categorical': [1, 0, 0],\n",
       "  'tm_helix_count': 21,\n",
       "  'tm_helix_percent': 0.2916666666666667,\n",
       "  'tm_strand_count': 0,\n",
       "  'tm_strand_percent': 0.0,\n",
       "  'signal_count': 0,\n",
       "  'signal_percent': 0.0},\n",
       " 'run_on': {'$date': '2022-10-10T14:22:12.775Z'},\n",
       " 'chunk': 0,\n",
       " 'uptaxonomy': {'Lineage_all': 'Plumeria, Plumeriinae, Plumerieae, Rauvolfioideae, Apocynaceae, Gentianales, lamiids, asterids, Pentapetalae, Gunneridae, eudicotyledons, Mesangiospermae, Magnoliopsida, Spermatophyta, Euphyllophyta, Tracheophyta, Embryophyta, Streptophytina, Streptophyta, Viridiplantae, Eukaryota, cellular organisms',\n",
       "  'Domain': 'Eukaryota',\n",
       "  'Kingdom': 'Viridiplantae'}}"
      ]
     },
     "metadata": {},
     "output_type": "display_data"
    },
    {
     "data": {
      "text/plain": [
       "{'_id': 'A0A0E2APJ7',\n",
       " 'uniprot_accession': 'A0A0E2APJ7',\n",
       " 'uniprot_id': 'A0A0E2APJ7_BACFG',\n",
       " 'organism_name': 'Bacteroides fragilis CL07T12C05',\n",
       " 'organism_id': 997883,\n",
       " 'sequence': 'MFCLMLLLFGAVVFISGTDPKKLKDFINKNDQSDKF',\n",
       " 'seq_length': 36,\n",
       " 'predictions': {'transmembrane': 'hhhhhhhhhhhhhhiiiiiiiiiiiiiiiiiiiiii'},\n",
       " 'annotations': {'tm_categorical': [1, 0, 0],\n",
       "  'tm_helix_count': 14,\n",
       "  'tm_helix_percent': 0.19444444444444445,\n",
       "  'tm_strand_count': 0,\n",
       "  'tm_strand_percent': 0.0,\n",
       "  'signal_count': 0,\n",
       "  'signal_percent': 0.0},\n",
       " 'run_on': {'$date': '2022-10-10T14:22:12.778Z'},\n",
       " 'chunk': 0,\n",
       " 'uptaxonomy': {'Lineage_all': 'Bacteroides fragilis, Bacteroides, Bacteroidaceae, Bacteroidales, Bacteroidia, Bacteroidetes, Bacteroidetes/Chlorobi group, FCB group, Bacteria, cellular organisms',\n",
       "  'Domain': 'Bacteria',\n",
       "  'Kingdom': 'FCB group'}}"
      ]
     },
     "metadata": {},
     "output_type": "display_data"
    }
   ],
   "source": [
    "# Copyright 2024 RostLab.\n",
    "# SPDX-License-Identifier: \tAGPL-3.0-or-later\n",
    "\n",
    "import json\n",
    "\n",
    "with tmvis_path.open() as f:\n",
    "    for i, line in enumerate(f):\n",
    "        if i >= 5:\n",
    "            break\n",
    "        data = json.loads(line)\n",
    "        display(data)"
   ]
  },
  {
   "cell_type": "markdown",
   "metadata": {},
   "source": [
    "## DB Definition\n"
   ]
  },
  {
   "cell_type": "code",
   "execution_count": 30,
   "metadata": {},
   "outputs": [],
   "source": [
    "from peewee import (\n",
    "    SqliteDatabase,\n",
    "    Model,\n",
    "    CharField,\n",
    "    ForeignKeyField,\n",
    "    IntegerField,\n",
    "    AutoField,\n",
    "    TextField,\n",
    "    DateField,\n",
    "    FloatField,\n",
    ")\n",
    "\n",
    "db = SqliteDatabase(\"data/tmvis.db\")\n",
    "\n",
    "\n",
    "class BaseModel(Model):\n",
    "    class Meta:\n",
    "        database = db\n",
    "\n",
    "\n",
    "class Organism(BaseModel):\n",
    "    id = AutoField(primary_key=True)\n",
    "    taxon_id = CharField(index=True, unique=True)\n",
    "    name = CharField()\n",
    "    super_kingdom = CharField(index=True)\n",
    "    clade = CharField(index=True, null=True)\n",
    "\n",
    "\n",
    "class Sequence(BaseModel):\n",
    "    id = AutoField(primary_key=True)\n",
    "    uniprot_id = CharField()\n",
    "    uniprot_accession = CharField(index=True, unique=True)\n",
    "    organism = ForeignKeyField(Organism, backref=\"sequences\")\n",
    "    sequence = TextField()\n",
    "    seq_length = IntegerField()\n",
    "\n",
    "\n",
    "class TMInfo(BaseModel):\n",
    "    id = AutoField(primary_key=True)\n",
    "    sequence = ForeignKeyField(Sequence, backref=\"tm_info\")\n",
    "    tm_helix_count = IntegerField()\n",
    "    tm_helix_percent = FloatField()\n",
    "    tm_strand_count = IntegerField()\n",
    "    tm_strand_percent = FloatField()\n",
    "    signal_count = IntegerField()\n",
    "    signal_percent = FloatField()\n",
    "    generated_at = DateField()\n",
    "\n",
    "\n",
    "class Annotation(BaseModel):\n",
    "    id = AutoField(primary_key=True)\n",
    "    sequence = ForeignKeyField(Sequence, backref=\"annotations\")\n",
    "    start = IntegerField()\n",
    "    end = IntegerField()\n",
    "    label = CharField(\n",
    "        max_length=100,\n",
    "        choices=[\n",
    "            (\"H\", \"Helix in->out\"),\n",
    "            (\"h\", \"Helix out->in\"),\n",
    "            (\"S\", \"Signal peptide\"),\n",
    "            (\"B\", \"Beta sheet, in->out\"),\n",
    "            (\"b\", \"Beta sheet, out->in\"),\n",
    "            (\"i\", \"inside\"),\n",
    "            (\"o\", \"outside\"),\n",
    "            (\".\", \"unknown\"),\n",
    "        ],\n",
    "    )\n",
    "    date_added = DateField()\n",
    "    source_db = CharField(choices=[\"topdb\", \"membranome\", \"tmvis\"])\n",
    "    source_db_ref = CharField(null=True)\n",
    "    source_db_url = CharField(max_length=400, null=True)\n",
    "\n",
    "\n",
    "with db:\n",
    "    db.create_tables([Organism, Sequence, TMInfo, Annotation])"
   ]
  },
  {
   "cell_type": "markdown",
   "metadata": {},
   "source": [
    "## Transferring Organism Information\n"
   ]
  },
  {
   "cell_type": "code",
   "execution_count": 31,
   "metadata": {},
   "outputs": [
    {
     "data": {
      "application/vnd.jupyter.widget-view+json": {
       "model_id": "afe25af5b7d840138f00660a5c085255",
       "version_major": 2,
       "version_minor": 0
      },
      "text/plain": [
       "  0%|          | 0/46048450 [00:00<?, ?it/s]"
      ]
     },
     "metadata": {},
     "output_type": "display_data"
    }
   ],
   "source": [
    "import tqdm.notebook\n",
    "\n",
    "with db:\n",
    "    missing_uptaxonomy_ids = set()\n",
    "\n",
    "    with tmvis_path.open() as file:\n",
    "        for line in tqdm.notebook.tqdm(file, total=46048450):\n",
    "            data = json.loads(line)\n",
    "\n",
    "            # Extract the relevant data\n",
    "            taxon_id = str(data[\"organism_id\"]).strip()\n",
    "            name = data[\"organism_name\"]\n",
    "\n",
    "            if \"uptaxonomy\" in data:\n",
    "                super_kingdom = data[\"uptaxonomy\"][\"Domain\"]\n",
    "                clade = data[\"uptaxonomy\"][\"Kingdom\"]\n",
    "\n",
    "                # Insert the organism entry, ignoring conflicts\n",
    "                Organism.insert(\n",
    "                    taxon_id=taxon_id,\n",
    "                    name=name,\n",
    "                    super_kingdom=super_kingdom,\n",
    "                    clade=clade,\n",
    "                ).on_conflict_ignore().execute()\n",
    "            else:\n",
    "                # Log taxon_id if uptaxonomy is missing\n",
    "                missing_uptaxonomy_ids.add(taxon_id)\n",
    "\n",
    "    # Write the missing taxon_ids to a log file\n",
    "    with missing_taxon_path.open(\"w\") as log_file:\n",
    "        for taxon_id in missing_uptaxonomy_ids:\n",
    "            log_file.write(f\"{taxon_id},\\n\")"
   ]
  },
  {
   "cell_type": "code",
   "execution_count": 53,
   "metadata": {},
   "outputs": [],
   "source": [
    "from playhouse.migrate import SqliteMigrator, migrate\n",
    "\n",
    "with db:\n",
    "    migrator = SqliteMigrator(db)\n",
    "    # Perform the migration to make clade nullable\n",
    "    migrate(\n",
    "        migrator.alter_column_type(\n",
    "            \"organism\", \"clade\", CharField(index=True, null=True)\n",
    "        )\n",
    "    )"
   ]
  },
  {
   "cell_type": "code",
   "execution_count": 32,
   "metadata": {},
   "outputs": [
    {
     "name": "stdout",
     "output_type": "stream",
     "text": [
      "Error fetching data for UniProt ID 2763866: {'taxonId': 2763866, 'inactiveReason': {'inactiveReasonType': 'DELETED', 'mergedTo': 0}}\n",
      "Error fetching data for UniProt ID 2770760: 404\n",
      "Error fetching data for UniProt ID 2763867: {'taxonId': 2763867, 'inactiveReason': {'inactiveReasonType': 'DELETED', 'mergedTo': 0}}\n"
     ]
    }
   ],
   "source": [
    "import httpx\n",
    "import csv\n",
    "\n",
    "\n",
    "def get_organism_info(uniprot_id):\n",
    "    url = f\"https://rest.uniprot.org/taxonomy/{uniprot_id}.json\"\n",
    "    with httpx.Client() as client:\n",
    "        response = client.get(url, follow_redirects=True)\n",
    "\n",
    "    if response.status_code == 200:\n",
    "        data = response.json()\n",
    "        lineage = data.get(\"lineage\", [])\n",
    "\n",
    "        super_kingdom = None\n",
    "        first_clade = None\n",
    "\n",
    "        for entry in lineage:\n",
    "            if entry[\"rank\"] == \"superkingdom\":\n",
    "                super_kingdom = entry[\"scientificName\"]\n",
    "            elif entry[\"rank\"] == \"clade\" and first_clade is None:\n",
    "                first_clade = entry[\"scientificName\"]\n",
    "\n",
    "        if \"scientificName\" not in data:\n",
    "            print(f\"Error fetching data for UniProt ID {uniprot_id}: {data}\")\n",
    "            return None\n",
    "\n",
    "        organism_info = {\n",
    "            \"taxon_id\": str(data[\"taxonId\"]),\n",
    "            \"name\": data[\"scientificName\"],\n",
    "            \"super_kingdom\": super_kingdom,\n",
    "            \"clade\": first_clade,\n",
    "        }\n",
    "        return organism_info\n",
    "    else:\n",
    "        print(\n",
    "            f\"Error fetching data for UniProt ID {uniprot_id}: {response.status_code}\"\n",
    "        )\n",
    "        return None\n",
    "\n",
    "\n",
    "def process_csv_and_update_db(missing_path, replacement_path):\n",
    "\n",
    "    uniprot_ids = []\n",
    "    with db.atomic():\n",
    "        with missing_path.open(\"r\") as csvfile:\n",
    "            csvreader = csv.reader(csvfile)\n",
    "\n",
    "            for row in csvreader:\n",
    "                original_taxon_id = row[0]\n",
    "\n",
    "                # Fetch alternative organism info from UniProt\n",
    "                organism_info = get_organism_info(original_taxon_id)\n",
    "\n",
    "                if organism_info:\n",
    "                    # Insert the organism entry if it doesn't already exist\n",
    "                    Organism.insert(\n",
    "                        taxon_id=organism_info[\"taxon_id\"],\n",
    "                        name=organism_info[\"name\"],\n",
    "                        super_kingdom=organism_info[\"super_kingdom\"],\n",
    "                        clade=organism_info[\"clade\"],\n",
    "                    ).on_conflict(\n",
    "                        conflict_target=[Organism.taxon_id],\n",
    "                        update={\n",
    "                            Organism.name: organism_info[\"name\"],\n",
    "                            Organism.super_kingdom: organism_info[\"super_kingdom\"],\n",
    "                            Organism.clade: organism_info[\"clade\"],\n",
    "                        },\n",
    "                    ).execute()\n",
    "                    uniprot_ids.append((original_taxon_id, organism_info[\"taxon_id\"]))\n",
    "                else:\n",
    "                    uniprot_ids.append((original_taxon_id, 0))\n",
    "\n",
    "        with replacement_path.open(\"w\") as csvfile:\n",
    "            csv.writer(csvfile).writerows(uniprot_ids)\n",
    "\n",
    "\n",
    "with db:\n",
    "    process_csv_and_update_db(missing_taxon_path, replacement_taxon_path)"
   ]
  },
  {
   "cell_type": "markdown",
   "metadata": {},
   "source": [
    "## Handling obsolete Uniprot Organisms"
   ]
  },
  {
   "cell_type": "code",
   "execution_count": 33,
   "metadata": {},
   "outputs": [],
   "source": [
    "with db:\n",
    "    Organism.insert(\n",
    "        taxon_id=\"0\", name=\"Unknown\", super_kingdom=\"Unknown\", clade=\"Unknown\"\n",
    "    ).on_conflict_ignore().execute()"
   ]
  },
  {
   "cell_type": "markdown",
   "metadata": {},
   "source": [
    "## Add Tmvis predictions and Sequences\n"
   ]
  },
  {
   "cell_type": "code",
   "execution_count": 34,
   "metadata": {},
   "outputs": [],
   "source": [
    "replacement_organism_ids = {}\n",
    "with replacement_taxon_path.open(\"r\") as csvfile:\n",
    "    csvreader = csv.reader(csvfile)\n",
    "    for row in csvreader:\n",
    "        original_taxon_id, alternative_uniprot_id = row\n",
    "        replacement_organism_ids[original_taxon_id] = alternative_uniprot_id\n",
    "\n",
    "annotations_to_insert = []\n",
    "tm_info_to_insert = []\n",
    "\n",
    "\n",
    "def process_batch():\n",
    "    if annotations_to_insert:\n",
    "        Annotation.insert_many(annotations_to_insert).execute()\n",
    "        annotations_to_insert.clear()\n",
    "    if tm_info_to_insert:\n",
    "        TMInfo.insert_many(tm_info_to_insert).execute()\n",
    "        tm_info_to_insert.clear()\n",
    "\n",
    "\n",
    "def deconstruct_predictions(predictions):\n",
    "    current_label = None\n",
    "    start = None\n",
    "\n",
    "    regions = []\n",
    "\n",
    "    for idx, label in enumerate(predictions, start=1):\n",
    "        if label != current_label:\n",
    "            if current_label is not None:\n",
    "                regions.append({\"start\": start, \"end\": idx - 1, \"label\": current_label})\n",
    "            current_label = label\n",
    "            start = idx\n",
    "\n",
    "    # Handle the last segment\n",
    "    if current_label is not None:\n",
    "        regions.append({\"start\": start, \"end\": idx, \"label\": current_label})\n",
    "    return regions"
   ]
  },
  {
   "cell_type": "code",
   "execution_count": 35,
   "metadata": {},
   "outputs": [
    {
     "data": {
      "application/vnd.jupyter.widget-view+json": {
       "model_id": "3bf49ce6bbb74abbb85e0b5a0f44b978",
       "version_major": 2,
       "version_minor": 0
      },
      "text/plain": [
       "  0%|          | 0/46048450 [00:00<?, ?it/s]"
      ]
     },
     "metadata": {},
     "output_type": "display_data"
    }
   ],
   "source": [
    "import tqdm.notebook\n",
    "\n",
    "from datetime import date   \n",
    "\n",
    "# Define batch size\n",
    "batch_size = 1000\n",
    "\n",
    "\n",
    "with db:\n",
    "    with tmvis_path.open(\"r\") as file:\n",
    "        for line in tqdm.notebook.tqdm(file, total=46048450):\n",
    "            data = json.loads(line)\n",
    "\n",
    "            # Replace organism ID if needed\n",
    "            taxon_id = replacement_organism_ids.get(\n",
    "                str(data[\"organism_id\"]), str(data[\"organism_id\"])\n",
    "            )\n",
    "            organism = Organism.get_or_none(Organism.taxon_id == taxon_id)\n",
    "\n",
    "            if not organism:\n",
    "                print(f\"Organism not found for taxon ID: {taxon_id}, {data}\")\n",
    "                continue\n",
    "\n",
    "            sequence = Sequence.create(\n",
    "                uniprot_id=data[\"uniprot_id\"],\n",
    "                uniprot_accession=data[\"uniprot_accession\"],\n",
    "                organism=organism,\n",
    "                sequence=data[\"sequence\"],\n",
    "                seq_length=data[\"seq_length\"],\n",
    "            )\n",
    "\n",
    "            # Deconstruct predictions\n",
    "            transmembrane_predictions = data[\"predictions\"][\"transmembrane\"]\n",
    "            run_on_date = date.fromisoformat(data[\"run_on\"][\"$date\"][:10])\n",
    "            chunk = data[\"chunk\"]\n",
    "\n",
    "            regions = deconstruct_predictions(transmembrane_predictions)\n",
    "\n",
    "            for region in regions:\n",
    "                annotations_to_insert.append(\n",
    "                    {\n",
    "                        \"sequence\": sequence,\n",
    "                        \"start\": region[\"start\"],\n",
    "                        \"end\": region[\"end\"],\n",
    "                        \"label\": region[\"label\"],\n",
    "                        \"date_added\": run_on_date,\n",
    "                        \"source_db\": \"tmvis\",\n",
    "                        \"source_db_ref\": f\"chunk {chunk}\",\n",
    "                    }\n",
    "                )\n",
    "\n",
    "            tm_info_to_insert.append(\n",
    "                {\n",
    "                    \"sequence\": sequence,\n",
    "                    \"tm_helix_count\": data[\"annotations\"][\"tm_helix_count\"],\n",
    "                    \"tm_helix_percent\": data[\"annotations\"][\"tm_helix_percent\"],\n",
    "                    \"tm_strand_count\": data[\"annotations\"][\"tm_strand_count\"],\n",
    "                    \"tm_strand_percent\": data[\"annotations\"][\"tm_strand_percent\"],\n",
    "                    \"signal_count\": data[\"annotations\"][\"signal_count\"],\n",
    "                    \"signal_percent\": data[\"annotations\"][\"signal_percent\"],\n",
    "                    \"generated_at\": run_on_date,\n",
    "                }\n",
    "            )\n",
    "\n",
    "            # Insert in batches\n",
    "            if (\n",
    "                len(annotations_to_insert) >= batch_size\n",
    "                or len(tm_info_to_insert) >= batch_size\n",
    "            ):\n",
    "                process_batch()\n",
    "\n",
    "    # Insert any remaining data\n",
    "    process_batch()"
   ]
  },
  {
   "cell_type": "markdown",
   "metadata": {},
   "source": [
    "## Parse membranome file"
   ]
  },
  {
   "cell_type": "code",
   "execution_count": 14,
   "metadata": {},
   "outputs": [
    {
     "data": {
      "application/vnd.jupyter.widget-view+json": {
       "model_id": "87ba82a4e78c4e66a8b511cebd066af5",
       "version_major": 2,
       "version_minor": 0
      },
      "text/plain": [
       "0it [00:00, ?it/s]"
      ]
     },
     "metadata": {},
     "output_type": "display_data"
    },
    {
     "data": {
      "text/plain": [
       "[{'sequence': 27392991,\n",
       "  'start': 309,\n",
       "  'end': 332,\n",
       "  'label': 'AH',\n",
       "  'date_added': datetime.date(2024, 7, 3),\n",
       "  'source_db': 'membranome',\n",
       "  'source_db_ref': '3',\n",
       "  'source_db_url': 'https://membranome.org/proteins/3'},\n",
       " {'sequence': 27032418,\n",
       "  'start': 308,\n",
       "  'end': 330,\n",
       "  'label': 'AH',\n",
       "  'date_added': datetime.date(2024, 7, 3),\n",
       "  'source_db': 'membranome',\n",
       "  'source_db_ref': '24',\n",
       "  'source_db_url': 'https://membranome.org/proteins/24'},\n",
       " {'sequence': 27326411,\n",
       "  'start': 308,\n",
       "  'end': 330,\n",
       "  'label': 'AH',\n",
       "  'date_added': datetime.date(2024, 7, 3),\n",
       "  'source_db': 'membranome',\n",
       "  'source_db_ref': '69',\n",
       "  'source_db_url': 'https://membranome.org/proteins/69'},\n",
       " {'sequence': 38484489,\n",
       "  'start': 15,\n",
       "  'end': 34,\n",
       "  'label': 'AH',\n",
       "  'date_added': datetime.date(2024, 7, 3),\n",
       "  'source_db': 'membranome',\n",
       "  'source_db_ref': '86',\n",
       "  'source_db_url': 'https://membranome.org/proteins/86'},\n",
       " {'sequence': 41326551,\n",
       "  'start': 14,\n",
       "  'end': 32,\n",
       "  'label': 'AH',\n",
       "  'date_added': datetime.date(2024, 7, 3),\n",
       "  'source_db': 'membranome',\n",
       "  'source_db_ref': '91',\n",
       "  'source_db_url': 'https://membranome.org/proteins/91'}]"
      ]
     },
     "metadata": {},
     "output_type": "display_data"
    }
   ],
   "source": [
    "import csv\n",
    "from datetime import date\n",
    "import tqdm.notebook\n",
    "\n",
    "membranome_path = Path(\"data/proteins-2024-07-03.csv\")\n",
    "date_added = date(2024, 7, 3)55\n",
    "\n",
    "\n",
    "def construct_link(numerical_id):\n",
    "    return f\"https://membranome.org/proteins/{numerical_id}\"\n",
    "\n",
    "\n",
    "annotations_to_insert = []\n",
    "with db:\n",
    "    with membranome_path.open(\"r\") as csvfile:\n",
    "        csvreader = csv.DictReader(csvfile)\n",
    "\n",
    "        for row in tqdm.notebook.tqdm(csvreader):\n",
    "            external_id = row[\"id\"]\n",
    "            uniprot_accession = row[\"uniprotcode\"]\n",
    "            segments = row[\"segment\"].split(\",\")  # Split multiple segments if present\n",
    "\n",
    "            for segment in segments:\n",
    "                segment = segment.strip()  # Remove any leading/trailing whitespace\n",
    "                if \"(\" in segment:\n",
    "                    segment = segment.split(\"(\")[\n",
    "                        0\n",
    "                    ].strip()  # Ignore part after the bracket\n",
    "\n",
    "                if \"-\" in segment:\n",
    "                    start, end = segment.split(\"-\")\n",
    "                    start = int(start.strip())\n",
    "                    end = int(end.strip())\n",
    "                    numerical_id = external_id  # Assuming external_id is the numerical id for constructing the link\n",
    "                    link = construct_link(numerical_id)\n",
    "                    source_db = \"membranome\"\n",
    "                    source_db_ref = numerical_id\n",
    "\n",
    "                    # Fetch the sequence related to the uniprot_id\n",
    "                    sequence = Sequence.get_or_none(\n",
    "                        Sequence.uniprot_accession == uniprot_accession\n",
    "                    )\n",
    "                    if sequence:\n",
    "                        annotations_to_insert.append(\n",
    "                            {\n",
    "                                \"sequence\": sequence,\n",
    "                                \"start\": start,\n",
    "                                \"end\": end,\n",
    "                                \"label\": \"AH\",\n",
    "                                \"date_added\": date_added,\n",
    "                                \"source_db\": source_db,\n",
    "                                \"source_db_ref\": source_db_ref,\n",
    "                                \"source_db_url\": link,\n",
    "                            }\n",
    "                        )\n",
    "\n",
    "                else:\n",
    "                    print(\n",
    "                        f\"Invalid segment format: {segment}, {uniprot_accession}, {numerical_id}\"\n",
    "                    )\n",
    "\n",
    "    if annotations_to_insert:\n",
    "        Annotation.insert_many(annotations_to_insert).execute()\n",
    "\n",
    "display(annotations_to_insert[:5])"
   ]
  },
  {
   "cell_type": "markdown",
   "metadata": {},
   "source": [
    "## Parse Topdb file\n",
    "\n"
   ]
  },
  {
   "cell_type": "code",
   "execution_count": null,
   "metadata": {},
   "outputs": [],
   "source": [
    "# Initialize list for batch insertion\n",
    "annotations_to_insert = []\n",
    "\n",
    "def process_batch():\n",
    "    if annotations_to_insert:\n",
    "        Annotation.insert_many(annotations_to_insert).execute()\n",
    "        annotations_to_insert.clear()\n",
    "        \n",
    "def deconstruct_predictions(predictions):\n",
    "    current_label = None\n",
    "    start = None\n",
    "\n",
    "    regions = []\n",
    "\n",
    "    for idx, label in enumerate(predictions, start=1):\n",
    "        if label != current_label:\n",
    "            if current_label is not None:\n",
    "                regions.append({\"start\": start, \"end\": idx - 1, \"label\": current_label})\n",
    "            current_label = label\n",
    "            start = idx\n",
    "\n",
    "    # Handle the last segment\n",
    "    if current_label is not None:\n",
    "        regions.append({\"start\": start, \"end\": idx, \"label\": current_label})\n",
    "    return regions"
   ]
  },
  {
   "cell_type": "code",
   "execution_count": null,
   "metadata": {},
   "outputs": [],
   "source": [
    "import datetime\n",
    "\n",
    "with db:\n",
    "    with topdb_path.open('r') as file:\n",
    "        for line in tqdm.notebook.tqdm(file):\n",
    "            data = json.loads(line)\n",
    "            \n",
    "            uniprot_id = data['_id']\n",
    "            topdb_id = data['TopDB_id']\n",
    "            topdb_entry = data['TopDB_Entry']\n",
    "            date_added = datetime.strptime(data['date_added'], \"%m/%d/%Y\").date()\n",
    "            \n",
    "            # Fetch the sequence related to the uniprot_id\n",
    "            sequence = Sequence.get_or_none(Sequence.uniprot_accession == uniprot_id)\n",
    "            if sequence:\n",
    "                regions = deconstruct_predictions(topdb_entry)\n",
    "                \n",
    "                for region in regions:\n",
    "                    annotations_to_insert.append({\n",
    "                        'sequence': sequence,\n",
    "                        'start': region['start'],\n",
    "                        'end': region['end'],\n",
    "                        'label': region['label'],\n",
    "                        'date_added': date_added,\n",
    "                        'source_db': 'topdb',\n",
    "                        'source_db_ref': topdb_id,\n",
    "                        'source_db_url': f\"https://topdb.unitmp.org/entry/{uniprot_id}\"\n",
    "                    })\n",
    "            else:\n",
    "                print(f\"Sequence not found for UniProt ID: {uniprot_id}\")\n",
    "\n",
    "            # Insert annotations in batches\n",
    "            if len(annotations_to_insert) >= batch_size:\n",
    "                process_batch()\n",
    "\n",
    "    # Insert any remaining data\n",
    "    process_batch()"
   ]
  }
 ],
 "metadata": {
  "kernelspec": {
   "display_name": ".venv",
   "language": "python",
   "name": "python3"
  },
  "language_info": {
   "codemirror_mode": {
    "name": "ipython",
    "version": 3
   },
   "file_extension": ".py",
   "mimetype": "text/x-python",
   "name": "python",
   "nbconvert_exporter": "python",
   "pygments_lexer": "ipython3",
   "version": "3.10.14"
  }
 },
 "nbformat": 4,
 "nbformat_minor": 2
}
